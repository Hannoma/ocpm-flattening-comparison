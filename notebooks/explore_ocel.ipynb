{
 "cells": [
  {
   "cell_type": "code",
   "execution_count": 1,
   "metadata": {
    "collapsed": true,
    "ExecuteTime": {
     "end_time": "2023-06-01T16:59:06.990145200Z",
     "start_time": "2023-06-01T16:59:06.975334500Z"
    }
   },
   "outputs": [],
   "source": [
    "import os\n",
    "import sys\n",
    "module_path = os.path.abspath(os.path.join('..'))\n",
    "if module_path not in sys.path:\n",
    "    sys.path.append(module_path)"
   ]
  },
  {
   "cell_type": "code",
   "execution_count": 2,
   "outputs": [],
   "source": [
    "from ocpa.objects.log.importer.ocel import factory as ocel_import_factory\n",
    "import seaborn as sns\n",
    "import pandas as pd\n",
    "from src.helpers.dataset import get_selected_dataset, log_path_for_dataset\n",
    "from matplotlib import pyplot as plt"
   ],
   "metadata": {
    "collapsed": false,
    "ExecuteTime": {
     "end_time": "2023-06-01T16:59:08.409150100Z",
     "start_time": "2023-06-01T16:59:06.992134800Z"
    }
   }
  },
  {
   "cell_type": "code",
   "execution_count": 10,
   "outputs": [],
   "source": [
    "dataset = get_selected_dataset()"
   ],
   "metadata": {
    "collapsed": false,
    "ExecuteTime": {
     "end_time": "2023-06-01T17:01:19.440590100Z",
     "start_time": "2023-06-01T17:01:19.425572400Z"
    }
   }
  },
  {
   "cell_type": "code",
   "execution_count": 4,
   "outputs": [],
   "source": [
    "ocel = ocel_import_factory.apply(log_path_for_dataset(dataset))"
   ],
   "metadata": {
    "collapsed": false,
    "ExecuteTime": {
     "end_time": "2023-06-01T16:59:08.552246300Z",
     "start_time": "2023-06-01T16:59:08.427140100Z"
    }
   }
  },
  {
   "cell_type": "code",
   "execution_count": 6,
   "outputs": [
    {
     "name": "stdout",
     "output_type": "stream",
     "text": [
      "Number of events 2391\n",
      "Number of activities 11\n",
      "Object types ['order', 'item', 'delivery']\n",
      "Number of objects {'order': 199, 'item': 398, 'delivery': 199}\n",
      "Number of total objects 796\n",
      "First event 2022-10-20 16:56:19.864004\n",
      "Last event 2022-12-18 12:23:32.871959\n",
      "Number of process executions 48\n",
      "Number of variants 12\n"
     ]
    }
   ],
   "source": [
    "# count the number of total events\n",
    "print('Number of events', len(ocel.log.log))\n",
    "# count the number of unique activities\n",
    "print('Number of activities', len(ocel.obj.activities))\n",
    "# count the number of object types\n",
    "print('Object types', ocel.object_types)\n",
    "# count the number of total objects\n",
    "print('Number of objects', {ot: len(ocel.obj.ot_objects[ot]) for ot in ocel.object_types})\n",
    "# count the number of total objects\n",
    "print('Number of total objects', sum([len(ocel.obj.ot_objects[ot]) for ot in ocel.object_types]))\n",
    "# count the number of unique resources\n",
    "print('Number of resources', ocel.log.log['event_resource'].nunique())\n",
    "# First and last event\n",
    "print('First event', ocel.log.log['event_timestamp'].min())\n",
    "print('Last event', ocel.log.log['event_timestamp'].max())\n",
    "# count the number of process executions\n",
    "print('Number of process executions', len(ocel.process_executions))\n",
    "# count the number of variants\n",
    "print('Number of variants', len(ocel.variants))"
   ],
   "metadata": {
    "collapsed": false,
    "ExecuteTime": {
     "end_time": "2023-06-01T16:59:46.296628700Z",
     "start_time": "2023-06-01T16:59:46.060523900Z"
    }
   }
  },
  {
   "cell_type": "code",
   "execution_count": 7,
   "outputs": [],
   "source": [
    "# graph the distribution of the number of events per process execution\n",
    "data = list(map(len, ocel.process_executions))\n",
    "data = pd.DataFrame(data, columns=['Number of events'])"
   ],
   "metadata": {
    "collapsed": false,
    "ExecuteTime": {
     "end_time": "2023-06-01T16:59:49.121441600Z",
     "start_time": "2023-06-01T16:59:49.117443700Z"
    }
   }
  },
  {
   "cell_type": "code",
   "execution_count": 8,
   "outputs": [
    {
     "data": {
      "text/plain": "       Number of events\ncount         48.000000\nmean          49.812500\nstd          262.436672\nmin            9.000000\n25%            9.000000\n50%           11.500000\n75%           14.000000\nmax         1830.000000",
      "text/html": "<div>\n<style scoped>\n    .dataframe tbody tr th:only-of-type {\n        vertical-align: middle;\n    }\n\n    .dataframe tbody tr th {\n        vertical-align: top;\n    }\n\n    .dataframe thead th {\n        text-align: right;\n    }\n</style>\n<table border=\"1\" class=\"dataframe\">\n  <thead>\n    <tr style=\"text-align: right;\">\n      <th></th>\n      <th>Number of events</th>\n    </tr>\n  </thead>\n  <tbody>\n    <tr>\n      <th>count</th>\n      <td>48.000000</td>\n    </tr>\n    <tr>\n      <th>mean</th>\n      <td>49.812500</td>\n    </tr>\n    <tr>\n      <th>std</th>\n      <td>262.436672</td>\n    </tr>\n    <tr>\n      <th>min</th>\n      <td>9.000000</td>\n    </tr>\n    <tr>\n      <th>25%</th>\n      <td>9.000000</td>\n    </tr>\n    <tr>\n      <th>50%</th>\n      <td>11.500000</td>\n    </tr>\n    <tr>\n      <th>75%</th>\n      <td>14.000000</td>\n    </tr>\n    <tr>\n      <th>max</th>\n      <td>1830.000000</td>\n    </tr>\n  </tbody>\n</table>\n</div>"
     },
     "execution_count": 8,
     "metadata": {},
     "output_type": "execute_result"
    }
   ],
   "source": [
    "data.describe()"
   ],
   "metadata": {
    "collapsed": false,
    "ExecuteTime": {
     "end_time": "2023-06-01T16:59:50.680698Z",
     "start_time": "2023-06-01T16:59:50.652783900Z"
    }
   }
  },
  {
   "cell_type": "code",
   "execution_count": 11,
   "outputs": [
    {
     "data": {
      "text/plain": "<Figure size 640x480 with 1 Axes>",
      "image/png": "[encoded data removed]"
     },
     "metadata": {},
     "output_type": "display_data"
    }
   ],
   "source": [
    "g = sns.histplot(data, x='Number of events', discrete=True)\n",
    "g.set(xlabel='Number of events (per process execution)', ylabel='Number of process executions')\n",
    "# Limit the x axis to 1000\n",
    "g.set_xlim(0, 100)\n",
    "plt.savefig('process-execution-length-distribution_100.svg')\n",
    "plt.savefig('process-execution-length-distribution_100.pdf')"
   ],
   "metadata": {
    "collapsed": false,
    "ExecuteTime": {
     "end_time": "2023-06-01T17:01:25.406912200Z",
     "start_time": "2023-06-01T17:01:22.530100500Z"
    }
   }
  },
  {
   "cell_type": "code",
   "execution_count": 12,
   "outputs": [],
   "source": [
    "# Calculate the throughput time of each process execution\n",
    "throughput_times = []\n",
    "for pe in ocel.process_executions:\n",
    "    es = list(pe)\n",
    "    es.sort()\n",
    "    throughput_times.append(ocel.get_value(max(es), 'event_timestamp') - ocel.get_value(min(es), 'event_timestamp'))"
   ],
   "metadata": {
    "collapsed": false,
    "ExecuteTime": {
     "end_time": "2023-06-01T17:01:28.887703700Z",
     "start_time": "2023-06-01T17:01:28.877186700Z"
    }
   }
  },
  {
   "cell_type": "code",
   "execution_count": 13,
   "outputs": [
    {
     "data": {
      "text/plain": "count                            48\nmean     28 days 14:07:03.442702687\nstd      16 days 01:37:38.864548785\nmin          0 days 08:56:22.000988\n25%         15 days 01:53:25.005976\n50%      27 days 17:34:02.004476500\n75%      41 days 18:38:38.755468500\nmax         58 days 19:17:14.007955\ndtype: object"
     },
     "execution_count": 13,
     "metadata": {},
     "output_type": "execute_result"
    }
   ],
   "source": [
    "data = pd.Series(throughput_times)\n",
    "data.describe()"
   ],
   "metadata": {
    "collapsed": false,
    "ExecuteTime": {
     "end_time": "2023-06-01T17:01:29.729920900Z",
     "start_time": "2023-06-01T17:01:29.720403300Z"
    }
   }
  },
  {
   "cell_type": "code",
   "execution_count": 14,
   "outputs": [
    {
     "data": {
      "text/plain": "<Figure size 640x480 with 1 Axes>",
      "image/png": "[encoded data removed]"
     },
     "metadata": {},
     "output_type": "display_data"
    }
   ],
   "source": [
    "# Plot the throughput time as a histplot (in days)\n",
    "g = sns.histplot(data=data / pd.Timedelta(days=1))\n",
    "g.set(xlabel='Throughput time (days)', ylabel='Number of process executions')\n",
    "plt.savefig('throughput-time-distribution.svg')"
   ],
   "metadata": {
    "collapsed": false,
    "ExecuteTime": {
     "end_time": "2023-06-01T17:01:40.155086400Z",
     "start_time": "2023-06-01T17:01:39.918056200Z"
    }
   }
  },
  {
   "cell_type": "code",
   "execution_count": 15,
   "outputs": [],
   "source": [
    "# Mean number of objects per event\n",
    "ots = ocel.object_types\n",
    "ocel.log.log['object_count'] = ocel.log.log[ots].apply(lambda x: x.map(len).sum(), axis=1)"
   ],
   "metadata": {
    "collapsed": false,
    "ExecuteTime": {
     "end_time": "2023-06-01T17:01:43.730132100Z",
     "start_time": "2023-06-01T17:01:43.533975500Z"
    }
   }
  },
  {
   "cell_type": "code",
   "execution_count": 16,
   "outputs": [
    {
     "data": {
      "text/plain": "count    2391.000000\nmean        1.832288\nstd         0.986042\nmin         1.000000\n25%         1.000000\n50%         1.000000\n75%         3.000000\nmax         3.000000\nName: object_count, dtype: float64"
     },
     "execution_count": 16,
     "metadata": {},
     "output_type": "execute_result"
    }
   ],
   "source": [
    "ocel.log.log['object_count'].describe()"
   ],
   "metadata": {
    "collapsed": false,
    "ExecuteTime": {
     "end_time": "2023-06-01T17:01:43.984275800Z",
     "start_time": "2023-06-01T17:01:43.969753900Z"
    }
   }
  },
  {
   "cell_type": "code",
   "execution_count": 17,
   "outputs": [
    {
     "data": {
      "text/plain": "<Figure size 640x480 with 1 Axes>",
      "image/png": "[encoded data removed]"
     },
     "metadata": {},
     "output_type": "display_data"
    }
   ],
   "source": [
    "# Plot the distribution of the number of objects per event as a boxplot\n",
    "data = pd.DataFrame(ocel.log.log['object_count'].to_numpy(), columns=['Number of objects'])\n",
    "g = sns.histplot(data, x='Number of objects', discrete=True)\n",
    "g.set(xlabel='Number of objects (per event)', ylabel='Number of events')\n",
    "g.set_yscale('log')\n",
    "plt.savefig('event-object-count-distribution.svg')\n",
    "plt.savefig('event-object-count-distribution.pdf')"
   ],
   "metadata": {
    "collapsed": false,
    "ExecuteTime": {
     "end_time": "2023-06-01T17:01:52.570110600Z",
     "start_time": "2023-06-01T17:01:52.081497600Z"
    }
   }
  },
  {
   "cell_type": "code",
   "execution_count": null,
   "outputs": [],
   "source": [
    "# Print activities of process executions with 3 or less events\n",
    "timestamps = []\n",
    "for pe in ocel.process_executions:\n",
    "    if len(pe) <= 5:\n",
    "        es = list(pe)\n",
    "        es.sort()\n",
    "        timestamps.append(ocel.get_value(max(es), 'event_timestamp'))"
   ],
   "metadata": {
    "collapsed": false
   }
  },
  {
   "cell_type": "code",
   "execution_count": null,
   "outputs": [],
   "source": [
    "timestamps.sort()\n",
    "plt.plot(timestamps)\n",
    "plt.show()"
   ],
   "metadata": {
    "collapsed": false
   }
  },
  {
   "cell_type": "code",
   "execution_count": null,
   "outputs": [],
   "source": [
    "from datetime import datetime\n",
    "\n",
    "first_activities = []\n",
    "first_timestamps = []\n",
    "for p in ocel.process_executions:\n",
    "    first_event_id = min(p)\n",
    "    first_activities.append(ocel.get_value(first_event_id, 'event_activity'))\n",
    "    first_timestamps.append(ocel.get_value(first_event_id, 'event_timestamp'))"
   ],
   "metadata": {
    "collapsed": false
   }
  },
  {
   "cell_type": "code",
   "execution_count": null,
   "outputs": [],
   "source": [
    "# value counts of the first activities\n",
    "print('Total number of first activities', len(first_activities))\n",
    "pd.Series(first_activities).value_counts()"
   ],
   "metadata": {
    "collapsed": false
   }
  },
  {
   "cell_type": "code",
   "execution_count": null,
   "outputs": [],
   "source": [
    "# Plot the timestamps of the first events\n",
    "first_timestamps.sort()\n",
    "plt.plot(first_timestamps)\n",
    "plt.show()"
   ],
   "metadata": {
    "collapsed": false
   }
  },
  {
   "cell_type": "code",
   "execution_count": null,
   "outputs": [],
   "source": [],
   "metadata": {
    "collapsed": false
   }
  }
 ],
 "metadata": {
  "kernelspec": {
   "display_name": "Python 3",
   "language": "python",
   "name": "python3"
  },
  "language_info": {
   "codemirror_mode": {
    "name": "ipython",
    "version": 2
   },
   "file_extension": ".py",
   "mimetype": "text/x-python",
   "name": "python",
   "nbconvert_exporter": "python",
   "pygments_lexer": "ipython2",
   "version": "2.7.6"
  }
 },
 "nbformat": 4,
 "nbformat_minor": 0
}
